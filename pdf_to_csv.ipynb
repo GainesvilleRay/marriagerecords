{
 "cells": [
  {
   "cell_type": "code",
   "execution_count": 1,
   "metadata": {},
   "outputs": [],
   "source": [
    "# standard libraries\n",
    "import csv\n",
    "import os\n",
    "\n",
    "# installed with pip\n",
    "from email.message import EmailMessage\n",
    "import smtplib\n",
    "import numpy as np\n",
    "import pandas as pd\n",
    "import pdftables_api\n",
    "\n",
    "# custom module\n",
    "import creds"
   ]
  },
  {
   "cell_type": "code",
   "execution_count": null,
   "metadata": {},
   "outputs": [],
   "source": [
    "# convert pdf downloaded from county clerk site into csv\n",
    "infile = 'Real Estate Search Results.pdf'\n",
    "outfile = 'output.csv'\n",
    "\n",
    "c = pdftables_api.Client('bemib6autzk9')\n",
    "c.csv(infile, outfile) \n",
    "#replace c.csv with c.xlsx to convert to XLS\n",
    "#replace c.xlsx with c.xml to convert to XML\n",
    "#replace c.xlsx with c.html to convert to HTML"
   ]
  },
  {
   "cell_type": "code",
   "execution_count": 9,
   "metadata": {},
   "outputs": [],
   "source": [
    "# select rows in a date range\n",
    "start_date = '05/20/2019' \n",
    "end_date = '05/26/2019'\n",
    "\n",
    "gmail_password = '%WatchingTheDetectives'\n",
    "receiver = 'doug.ray@starbanner.com'\n",
    "\n",
    "# create dataframe from csv\n",
    "\n",
    "cols = [\n",
    "    'col1', 'date', 'col3', 'col4', 'col5', 'col6', 'col7',\n",
    "    'name1', 'col9', 'col10', 'name2', 'col12', 'col13',\n",
    "    'col14', 'col15'\n",
    "    ]\n",
    "\n",
    "df = pd.read_csv('output.csv', usecols=[1, 7, 10, 14], names=cols, encoding='ISO-8859-1')\n",
    "\n",
    "# get rid of unneeded rows\n",
    "df = df[df.col15 != \"Temp\"]\n",
    "df = df[df.col15 != \"Status\"]\n",
    "df = df.dropna(axis=0, how='all')\n",
    "df = df.dropna(subset=['name1', 'name2'])\n",
    "df = df.dropna(subset=['date'])\n",
    "df = df.drop('col15', axis=1)\n",
    "\n",
    "# get names separated and organized\n",
    "df.name1 = df.name1.str.title()\n",
    "df.name2 = df.name2.str.title()\n",
    "name1split = df.name1.str.split(\" \", n=1, expand=True)\n",
    "df['name1_last'] = name1split[0]\n",
    "df['name1_first'] = name1split[1]\n",
    "df = df.drop('name1', axis=1)\n",
    "name2split = df.name2.str.split(\" \", n=1, expand=True)\n",
    "df['name2_last'] = name2split[0]\n",
    "df['name2_first'] = name2split[1]\n",
    "df = df.drop('name2', axis=1)\n",
    "df = df[['name1_last', 'name1_first', 'name2_last', 'name2_first', 'date']]\n",
    "df['name1'] = df[['name1_last', 'name1_first']].apply(lambda x: ', '.join(x), axis=1)\n",
    "df['name2'] = df[['name2_last', 'name2_first']].apply(lambda x: ', '.join(x), axis=1)\n",
    "df['couple'] = df[['name1', 'name2']].apply(lambda x: ' and '.join(x), axis=1)\n",
    "df = df.drop(['name1_first', 'name1_last', 'name2_first', 'name2_last', 'name1', 'name2'], axis=1)"
   ]
  },
  {
   "cell_type": "code",
   "execution_count": 10,
   "metadata": {},
   "outputs": [],
   "source": [
    "df.date = pd.to_datetime(df.date)\n",
    "mask = (df.date >= start_date) & (df.date <= end_date)\n",
    "df_chosenrange = df.loc[mask]\n",
    "df_chosenrange = df_chosenrange.drop('date', axis=1)"
   ]
  },
  {
   "cell_type": "code",
   "execution_count": 11,
   "metadata": {},
   "outputs": [],
   "source": [
    "#marriagereport = os.path.join(path_directory, 'marriages.txt')\n",
    "marriagereport = 'marriages.txt'\n",
    "\n",
    "# Delete old report file since we'll be building a new one here.\n",
    "if os.path.exists(marriagereport):\n",
    "    os.remove(marriagereport)\n",
    "else:\n",
    "    print(f\"The old file for {marriagereport} isn't there.\")\n",
    "\n",
    "# Add intro graph to the top\n",
    "intro = f\"These are marriage licenses recorded in Alachua County — from {start_date} to {end_date}\\n\"\n",
    "f=open(marriagereport, \"w+\")\n",
    "f.write(intro)\n",
    "f.close()\n",
    "        \n",
    "# write df to txt file\n",
    "np.savetxt(r'marriages.txt', df_chosenrange.values, fmt='%s')"
   ]
  },
  {
   "cell_type": "code",
   "execution_count": 13,
   "metadata": {},
   "outputs": [
    {
     "name": "stdout",
     "output_type": "stream",
     "text": [
      "Email sent!\n"
     ]
    }
   ],
   "source": [
    "# send the email\n",
    "with open('marriages.txt') as fp:\n",
    "    msg = EmailMessage()\n",
    "    msg.set_content(fp.read())\n",
    "          \n",
    "sender = 'data@sunwriters.com'\n",
    "receiver = 'doug.ray@starbanner.com'\n",
    "msg['Subject'] = f'Marriage licenses for Alachua County from {start_date} to {end_date}'\n",
    "msg['from'] = sender\n",
    "msg['To'] = receiver\n",
    "\n",
    "        # Send the message via our own SMTP server.\n",
    "try:\n",
    "    server = smtplib.SMTP_SSL('smtp.gmail.com', 465)\n",
    "    server.ehlo()\n",
    "    server.login(sender, gmail_password)\n",
    "    server.send_message(msg)\n",
    "    server.quit()\n",
    "    print('Email sent!')\n",
    "except:\n",
    "    print('Something went wrong...')"
   ]
  },
  {
   "cell_type": "code",
   "execution_count": 8,
   "metadata": {},
   "outputs": [
    {
     "ename": "NameError",
     "evalue": "name 'gmail_password' is not defined",
     "output_type": "error",
     "traceback": [
      "\u001b[0;31m---------------------------------------------------------------------------\u001b[0m",
      "\u001b[0;31mNameError\u001b[0m                                 Traceback (most recent call last)",
      "\u001b[0;32m<ipython-input-8-051cc4976f25>\u001b[0m in \u001b[0;36m<module>\u001b[0;34m\u001b[0m\n\u001b[0;32m----> 1\u001b[0;31m \u001b[0mprint\u001b[0m\u001b[0;34m(\u001b[0m\u001b[0mgmail_password\u001b[0m\u001b[0;34m)\u001b[0m\u001b[0;34m\u001b[0m\u001b[0;34m\u001b[0m\u001b[0m\n\u001b[0m",
      "\u001b[0;31mNameError\u001b[0m: name 'gmail_password' is not defined"
     ]
    }
   ],
   "source": []
  },
  {
   "cell_type": "code",
   "execution_count": null,
   "metadata": {},
   "outputs": [],
   "source": []
  }
 ],
 "metadata": {
  "kernelspec": {
   "display_name": "Python 3",
   "language": "python",
   "name": "python3"
  },
  "language_info": {
   "codemirror_mode": {
    "name": "ipython",
    "version": 3
   },
   "file_extension": ".py",
   "mimetype": "text/x-python",
   "name": "python",
   "nbconvert_exporter": "python",
   "pygments_lexer": "ipython3",
   "version": "3.7.1"
  }
 },
 "nbformat": 4,
 "nbformat_minor": 2
}
