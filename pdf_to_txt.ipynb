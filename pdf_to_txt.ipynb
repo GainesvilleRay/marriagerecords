{
 "cells": [
  {
   "cell_type": "code",
   "execution_count": 4,
   "metadata": {},
   "outputs": [],
   "source": [
    "#! env = pdf_env\n",
    "\n",
    "import os\n",
    "import re\n",
    "import sys\n",
    "import PyPDF2\n",
    "\n",
    "pdfobj = open('Real Estate Search Results.pdf', 'rb')\n",
    "pdfreader = PyPDF2.PdfFileReader(pdfobj)\n",
    "pagenum = int(pdfreader.numPages)\n",
    "\n",
    "for i in range(pagenum):\n",
    "    pageobj = pdfreader.getPage(i)\n",
    "    pagetext = pageobj.extractText()\n",
    "    f=open('pagetext.txt', \"a+\")\n",
    "    f.write(pagetext)\n",
    "f.close()\n"
   ]
  },
  {
   "cell_type": "code",
   "execution_count": 5,
   "metadata": {},
   "outputs": [],
   "source": [
    "f=open('pagetext.txt', 'r')\n",
    "stuff = f.read()\n",
    "\n"
   ]
  },
  {
   "cell_type": "code",
   "execution_count": 6,
   "metadata": {},
   "outputs": [],
   "source": [
    "s = open('pagetext.txt').read()\n",
    "s = s.replace('Perm', '/n')\n",
    "f= open('pagetext.txt', 'w')\n",
    "f.write(s)\n",
    "f.close()"
   ]
  },
  {
   "cell_type": "code",
   "execution_count": null,
   "metadata": {},
   "outputs": [],
   "source": []
  }
 ],
 "metadata": {
  "kernelspec": {
   "display_name": "Python 3",
   "language": "python",
   "name": "python3"
  },
  "language_info": {
   "codemirror_mode": {
    "name": "ipython",
    "version": 3
   },
   "file_extension": ".py",
   "mimetype": "text/x-python",
   "name": "python",
   "nbconvert_exporter": "python",
   "pygments_lexer": "ipython3",
   "version": "3.5.6"
  }
 },
 "nbformat": 4,
 "nbformat_minor": 2
}
